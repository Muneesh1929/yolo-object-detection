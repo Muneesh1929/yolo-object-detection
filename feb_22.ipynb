{
 "cells": [
  {
   "cell_type": "code",
   "execution_count": 1,
   "metadata": {},
   "outputs": [],
   "source": [
    "import cv2"
   ]
  },
  {
   "cell_type": "code",
   "execution_count": 2,
   "metadata": {},
   "outputs": [
    {
     "data": {
      "text/plain": [
       "< cv2.dnn.Model 000001EAC6039C10>"
      ]
     },
     "execution_count": 2,
     "metadata": {},
     "output_type": "execute_result"
    }
   ],
   "source": [
    "model=cv2.dnn_DetectionModel(\"yolov4.weights\",\"yolov4.cfg\")\n",
    "model.setInputSize(416,416)\n",
    "model.setInputScale(1/255.0)\n",
    "model.setInputCrop(False)\n",
    "model.setInputSwapRB(True)\n",
    "model.setInputMean((0,0,0))"
   ]
  },
  {
   "cell_type": "code",
   "execution_count": 5,
   "metadata": {},
   "outputs": [],
   "source": [
    "file=open(\"coco-classes.txt\")\n",
    "classes=file.read().split(\"\\n\")\n",
    "file.close()"
   ]
  },
  {
   "cell_type": "code",
   "execution_count": 21,
   "metadata": {},
   "outputs": [],
   "source": [
    "img=cv2.imread(\"cycle_dog.jpg\")\n",
    "idx,prob,bbox=model.detect(img,confThreshold=.7,nmsThreshold=.4)\n",
    "\n",
    "for i,p,box in zip(idx,prob,bbox):\n",
    "    # print(classes[i],p,box)\n",
    "    pb=round(p,2)\n",
    "    cv2.rectangle(img,(box[0],box[1]),(box[0]+box[2],box[1]+box[3]),(0,0,255),1)\n",
    "    cv2.putText(img,classes[i]+f\"({pb:.2})\",(box[0],box[1]-10),cv2.FONT_HERSHEY_DUPLEX,2,(255,0,0),1)\n",
    "\n",
    "cv2.imshow(\"YOLO\",img)\n",
    "cv2.waitKey()\n",
    "cv2.destroyAllWindows()"
   ]
  },
  {
   "cell_type": "code",
   "execution_count": 23,
   "metadata": {},
   "outputs": [],
   "source": [
    "#webcam\n",
    "vdo=cv2.VideoCapture(1)\n",
    "while(True):\n",
    "    window_width, window_height = 500, 500\n",
    "    flag,img=vdo.read()\n",
    "    cv2.putText(img,\"press q to exit\",(10,30),cv2.FONT_HERSHEY_DUPLEX,2,(255,0,0),1)\n",
    "    idx,prob,bbox=model.detect(img,confThreshold=.7,nmsThreshold=.4)\n",
    "\n",
    "    for i,p,box in zip(idx,prob,bbox):\n",
    "        pb=round(p,2)\n",
    "        cv2.rectangle(img,(box[0],box[1]),(box[0]+box[2],box[1]+box[3]),(0,0,255),1)\n",
    "        cv2.putText(img,classes[i]+f\"({pb:.2})\",(box[0],box[1]-10),cv2.FONT_HERSHEY_DUPLEX,2,(255,0,0),1)\n",
    "    cv2.imshow(\"YOLO\",img)\n",
    "    key=cv2.waitKey(100)\n",
    "    if(ord('q')==key):\n",
    "        break\n",
    "\n",
    "cv2.destroyAllWindows()\n",
    "vdo.release()"
   ]
  },
  {
   "cell_type": "code",
   "execution_count": null,
   "metadata": {},
   "outputs": [],
   "source": [
    "import cv2\n",
    "#load the model\n",
    "model=cv2.dnn_DetectionModel(\"yolov4.weights\",\"yolov4.cfg\")\n",
    "\n",
    "#set preprocessing of input image\n",
    "model.setInputSize(416,416)\n",
    "model.setInputScale(1/255.0)\n",
    "model.setInputCrop(False)\n",
    "model.setInputSwapRB(True)\n",
    "model.setInputMean((0,0,0))\n",
    "\n",
    "#load classes\n",
    "file=open(\"coco-classes.txt\")\n",
    "classes=file.read().split(\"\\n\")\n",
    "file.close()\n",
    "\n",
    "#webcam capture video \n",
    "vdo=cv2.VideoCapture(1)\n",
    "while(True):\n",
    "    window_width, window_height = 500, 500\n",
    "    flag,img=vdo.read()\n",
    "    cv2.putText(img,\"press q to exit\",(10,30),cv2.FONT_HERSHEY_DUPLEX,2,(255,0,0),1)\n",
    "    idx,prob,bbox=model.detect(img,confThreshold=.7,nmsThreshold=.4)\n",
    "\n",
    "    for i,p,box in zip(idx,prob,bbox):\n",
    "        pb=round(p,2)\n",
    "        cv2.rectangle(img,(box[0],box[1]),(box[0]+box[2],box[1]+box[3]),(0,0,255),1)\n",
    "        cv2.putText(img,classes[i]+f\"({pb:.2})\",(box[0],box[1]-10),cv2.FONT_HERSHEY_DUPLEX,2,(255,0,0),1)\n",
    "    cv2.imshow(\"YOLO\",img)\n",
    "    key=cv2.waitKey(100)\n",
    "    if(ord('q')==key):\n",
    "        break\n",
    "\n",
    "cv2.destroyAllWindows()\n",
    "vdo.release()"
   ]
  }
 ],
 "metadata": {
  "kernelspec": {
   "display_name": "Python 3",
   "language": "python",
   "name": "python3"
  },
  "language_info": {
   "codemirror_mode": {
    "name": "ipython",
    "version": 3
   },
   "file_extension": ".py",
   "mimetype": "text/x-python",
   "name": "python",
   "nbconvert_exporter": "python",
   "pygments_lexer": "ipython3",
   "version": "3.12.1"
  }
 },
 "nbformat": 4,
 "nbformat_minor": 2
}
